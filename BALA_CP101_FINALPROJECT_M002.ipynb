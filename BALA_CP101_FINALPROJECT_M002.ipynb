{
 "cells": [
  {
   "cell_type": "markdown",
   "metadata": {},
   "source": [
    "1. (5 points) Write a program that will accept input for the width and height of a square. Display a hollow square based on the input. "
   ]
  },
  {
   "cell_type": "code",
   "execution_count": 4,
   "metadata": {},
   "outputs": [
    {
     "name": "stdout",
     "output_type": "stream",
     "text": [
      "\tHollow Square\t\n",
      "\n",
      "Enter width of the square:\t10\n",
      "Enter height of the square:\t10\n",
      "\n",
      "Output:\n",
      "\n",
      "**********\n",
      "*        *\n",
      "*        *\n",
      "*        *\n",
      "*        *\n",
      "*        *\n",
      "*        *\n",
      "*        *\n",
      "*        *\n",
      "**********\n"
     ]
    }
   ],
   "source": [
    "# 1\n",
    "\n",
    "def lost(w, h):\n",
    "    \n",
    "    for a in range(1, h + 1):\n",
    "        for b in range(1, w + 1):    \n",
    "            if (a == 1 or a == h or\n",
    "                    b == 1 or b == w):\n",
    "                print(\"*\", end=\"\")\n",
    "            else:\n",
    "                print(\"\", end=\" \")\n",
    "        print()\n",
    "\n",
    "def star():\n",
    "    print(\"\\tHollow Square\\t\\n\")\n",
    "    width = eval(input(\"Enter width of the square:\\t\"))\n",
    "    height = eval(input(\"Enter height of the square:\\t\"))\n",
    "    print(\"\\nOutput:\\n\")\n",
    "    lost(width, height)\n",
    "\n",
    "\n",
    "star()"
   ]
  },
  {
   "cell_type": "markdown",
   "metadata": {},
   "source": [
    "2. (5 points) Write a function that takes a list of strings an prints them, one per line, in a rectangular frame. For example the list [\"Hello\", \"World\", \"in\", \"a\", \"frame\"] gets printed as: \n",
    "Example: \n",
    "Enter a string: Hello World in a frame \n",
    "**********\n",
    "* Hello  *\n",
    "* World  *\n",
    "* in     *\n",
    "* a      *\n",
    "* frame  *\n",
    "********** "
   ]
  },
  {
   "cell_type": "code",
   "execution_count": 3,
   "metadata": {},
   "outputs": [
    {
     "name": "stdout",
     "output_type": "stream",
     "text": [
      "\tWORD IN A FRAME\t\n",
      "\n",
      "Enter a string: Hello World in a frame\n",
      "\n",
      "*********\n",
      "* Hello *\n",
      "* World *\n",
      "* in    *\n",
      "* a     *\n",
      "* frame *\n",
      "*********\n"
     ]
    }
   ],
   "source": [
    "# 2\n",
    "\n",
    "def frame(words):\n",
    "    print()\n",
    "    size = len(max(words, key=len))\n",
    "    print('*' * (size + 4))\n",
    "    for word in words:\n",
    "        print('* {a:<{b}} *'.format(a=word, b=size))\n",
    "    print('*' * (size + 4))\n",
    "\n",
    "\n",
    "def main():\n",
    "    print(\"\\tWORD IN A FRAME\\t\\n\")\n",
    "    a = input(\"Enter a string: \")\n",
    "    frame(a.split(\" \"))\n",
    "\n",
    "\n",
    "main()"
   ]
  },
  {
   "cell_type": "markdown",
   "metadata": {},
   "source": [
    "3. (5 points) The goals score in a soccer match maybe input as a sequence of “1” and “2” s, terminated by 0. The number “1” would mean that Team 1 made a goal and “2” would mean that Team 2 made a goal. Thus, the sequence 1 2 1 2 1 1 2 0 means that Team 1 made four goals in all the Team 2 made 3 goals in all. Make a program that would input such a sequence and output how many goal each team made and the result of the match ( Team 1 won, 1 or 2 , or both tied). Validated the input to be either 0,1 or 2). "
   ]
  },
  {
   "cell_type": "code",
   "execution_count": 4,
   "metadata": {},
   "outputs": [
    {
     "name": "stdout",
     "output_type": "stream",
     "text": [
      "Enter goal [1 / 2]: 1\n",
      "Enter goal [1 / 2]: 2\n",
      "Enter goal [1 / 2]: 1\n",
      "Enter goal [1 / 2]: 2\n",
      "Enter goal [1 / 2]: 1\n",
      "Enter goal [1 / 2]: 1\n",
      "Enter goal [1 / 2]: 2\n",
      "Enter goal [1 / 2]: 0\n",
      "\n",
      "Goal Sequence:\t ['1', '2', '1', '2', '1', '1', '2', '0']\n",
      "\n",
      "Team 1 won with a score of 4\n",
      "Team 2 lost with a score of 3\n"
     ]
    }
   ],
   "source": [
    "# 3\n",
    "\n",
    "def win(list):\n",
    "    team1 = 0\n",
    "    team2 = 0\n",
    "    for z in list:\n",
    "        if z == \"1\":\n",
    "            team1 += 1\n",
    "        if z == \"2\":\n",
    "            team2 += 1\n",
    "    if team1 > team2:\n",
    "        print(\"\\nTeam 1 won with a score of\", team1)\n",
    "        print(\"Team 2 lost with a score of\", team2)\n",
    "    if team1 == team2:\n",
    "        print(\"\\nTeam 1 and Team 2 both tied with a score of\", team1, \"-\", team2)\n",
    "    if team1 < team2:\n",
    "        print(\"\\nTeam 2 won with a score of\", team2)\n",
    "        print(\"Team 1 lost with a score of\", team1)\n",
    "\n",
    "\n",
    "def soccer():\n",
    "    scorelist = []\n",
    "    while True:\n",
    "        goal = input(\"Enter goal [1 / 2]: \")\n",
    "        scorelist.append(goal)\n",
    "        if goal == \"0\":\n",
    "            break\n",
    "    print(\"\\nGoal Sequence:\\t\", scorelist)\n",
    "    win(scorelist)\n",
    "\n",
    "\n",
    "soccer()"
   ]
  },
  {
   "cell_type": "markdown",
   "metadata": {},
   "source": [
    "4. (5 points) Write a simple checkbook balancer that would input a sequence of deposits (positive real) and issuance (negative reals) terminated by a 0, and would output the transaction type, the amount, and running balance for each entry. Assume an initial balance of 0. Ensured that the issued checks won’t bounce!  "
   ]
  },
  {
   "cell_type": "code",
   "execution_count": 7,
   "metadata": {},
   "outputs": [
    {
     "name": "stdout",
     "output_type": "stream",
     "text": [
      "Enter amount: 1000\n",
      "Enter amount: -500\n",
      "Enter amount: 300\n",
      "Enter amount: -250\n",
      "Enter amount: 0\n",
      "\n",
      "Deposit:\t\t 1000\n",
      "Remaining Balance:\t 1000\n",
      "\n",
      "Issuance:\t\t -500\n",
      "Remaining Balance:\t 500\n",
      "\n",
      "Deposit:\t\t 300\n",
      "Remaining Balance:\t 800\n",
      "\n",
      "Issuance:\t\t -250\n",
      "Remaining Balance:\t 550\n"
     ]
    }
   ],
   "source": [
    "# 4\n",
    "\n",
    "def a(book, balance):\n",
    "    balance = 0\n",
    "    for x in book:\n",
    "        if x > 0:\n",
    "            deposit = x\n",
    "            print(\"\\nDeposit:\\t\\t\", deposit)\n",
    "\n",
    "        if x < 0:\n",
    "            issuance = x\n",
    "            print(\"\\nIssuance:\\t\\t\", issuance)\n",
    "        balance += x\n",
    "        print(\"Remaining Balance:\\t\", balance)\n",
    "\n",
    "\n",
    "def main():\n",
    "    checkbook = []\n",
    "    while True:\n",
    "        check = eval(input(\"Enter amount: \"))\n",
    "        if check == 0:\n",
    "            break\n",
    "        checkbook.append(check)\n",
    "    a(checkbook, check)\n",
    "\n",
    "\n",
    "main()"
   ]
  },
  {
   "cell_type": "markdown",
   "metadata": {},
   "source": [
    "5. (10 points) Another depreciation method is the DOUBLE DECLINING BALANCE method. Here, the depreciation cost is half of the book value at the start of the year. However, when the book value at the start of the year is already below 500, the final depreciation cost is this book value. Ex: If the equipment is initially worth 5000, the depreciation schedule will be as follows: \n",
    "\n",
    "YEAR  ANNUAL DEPRECIATION  BOOK VALUE \n",
    "\n",
    "   1     2,500     2,500 \n",
    "\n",
    "   2     1,250     1,250 \n",
    "\n",
    "   3       625     625 \n",
    "\n",
    "   4    312.50     312.50 \n",
    "\n",
    "   5    312.50     312.50\n",
    "   \n",
    "Make a program that would input as initial INVESTMENT and output the corresponding schedule."
   ]
  },
  {
   "cell_type": "code",
   "execution_count": 5,
   "metadata": {},
   "outputs": [
    {
     "name": "stdout",
     "output_type": "stream",
     "text": [
      "INVESTMENT:\t5000\n",
      "\n",
      "YEAR:          ANNUAL DEPRECIATION:           BOOK VALUE:\n",
      "1                    2500.00                     2500.00\n",
      "2                    1250.00                     1250.00\n",
      "3                    625.00                      625.00\n",
      "4                    312.50                      312.50\n",
      "5                    312.50                      312.50\n"
     ]
    }
   ],
   "source": [
    "# 5\n",
    "# double declining balance\n",
    "\n",
    "def ad(val):\n",
    "    year = 0\n",
    "    value = 0\n",
    "    print(\"%-15s %-30s %s\" % (\"\\nYEAR:\", \"ANNUAL DEPRECIATION:\", \"BOOK VALUE:\"))\n",
    "\n",
    "    while val != value:\n",
    "\n",
    "        if val > 500:\n",
    "            val /= 2\n",
    "            year += 1\n",
    "            print(\"%-20s %-27.2f %0.2f\" % (year, val, val))\n",
    "\n",
    "        elif val <= 500:\n",
    "            val = val\n",
    "            year += 1\n",
    "            print(\"%-20s %-27.2f %0.2f\" % (year, val, val))\n",
    "            value = val\n",
    "\n",
    "\n",
    "def main():\n",
    "    initialvalue = eval(input(\"INVESTMENT:\\t\"))\n",
    "    ad(initialvalue)\n",
    "\n",
    "\n",
    "main()"
   ]
  },
  {
   "cell_type": "markdown",
   "metadata": {},
   "source": [
    "6. (10 points) A machine being used by a business concern is subjected to depreciation so that the company can recoup its investment. The initial investment is the initial BOOK VALUE of the machine. An amount determined by the original investment as well as the number of years the machine will be depreciated and the method of depreciation, is deducted every year from this book value until eventually the book value is 0. Two methods are frequently used: \n",
    " \n",
    " \n",
    "a) In the SUM OF YEAR’S DIGITS METHOD, the book value is depreciated at a decreasing rate. \n",
    "\n",
    "Ex. If the initial INVESTMENT is 15000 and the number of years is 5, we first calculate the following sum: \n",
    "  1+2+3+4+5 = 15 \n",
    " \n",
    " \n",
    "The depreciation for the first year will be a 5/sum of the original cost, for the second year it will be 4/sum, etc. The corresponding Schedule 9 is thus: \n",
    " \n",
    "YEAR    ANNUAL DEPRECIATION  BOOK VALUE   \n",
    "    1           5000           10000    \n",
    "    2           4000           6000    \n",
    "    3           3000           3000    \n",
    "    4           2000           1000    \n",
    "    5           1000             0 \n",
    "    \n",
    " Make a program that would input an initial INVESTMENT and the number of YEARS the machine will be depreciated and output the corresponding depreciation schedule. "
   ]
  },
  {
   "cell_type": "code",
   "execution_count": 14,
   "metadata": {},
   "outputs": [
    {
     "name": "stdout",
     "output_type": "stream",
     "text": [
      "Enter Initial Book Value:\t15000\n",
      "Enter the number of years:\t5\n",
      "\n",
      "YEAR:          ANNUAL DEPRECIATION:           BOOK VALUE:\n",
      "1                    5000                        10000\n",
      "2                    4000                        6000\n",
      "3                    3000                        3000\n",
      "4                    2000                        1000\n",
      "5                    1000                        0\n"
     ]
    }
   ],
   "source": [
    "# 6\n",
    "\n",
    "def formula(a, b):\n",
    "    bookvalue = a\n",
    "    sumyears = b * (b + 1) // 2\n",
    "    print(\"%-15s %-30s %s\" % (\"\\nYEAR:\", \"ANNUAL DEPRECIATION:\", \"BOOK VALUE:\"))\n",
    "\n",
    "    for year in range(b):\n",
    "        annualdepreciation = (b - year) / sumyears * a\n",
    "        bookvalue -= annualdepreciation\n",
    "        print(\"%-20d %-27d %d\" % (year + 1, annualdepreciation, bookvalue))\n",
    "\n",
    "\n",
    "def main():\n",
    "    initialvalue = eval(input(\"Enter Initial Book Value:\\t\"))\n",
    "    years = eval(input(\"Enter the number of years:\\t\"))\n",
    "    formula(initialvalue, years)\n",
    "\n",
    "\n",
    "main()\n"
   ]
  },
  {
   "cell_type": "markdown",
   "metadata": {},
   "source": [
    "8. (10 points) Some banks make debtors pay in round, m yearly amount. Make a program that would input a LOANed  amount  (must be positive) the annual interest RATE, and would output the schedule of payment as illustrated below. \n",
    " \n",
    "Ex: LOAN is P 800, RATE is 0.10 and PAYMENT is P 200 Schedule of Payment would be as follows: \n",
    "  \n",
    "  YEAR    PRINCIPAL   INTEREST  PAYMENT     \n",
    "  \n",
    "  1        800         80          200   \n",
    "     \n",
    "  2        680         68          200 \n",
    "     \n",
    "  3        548         54.80       200 \n",
    "     \n",
    "  4        402.80      40.28       200     \n",
    "  \n",
    "  5        243.08      24.308      200      \n",
    "  \n",
    "  6        67.388      6.7388      74.1268 \n",
    "\n",
    "What would be the correct validation for PAYMENT  to ensure that the debt will eventually be liquidated (paid)?"
   ]
  },
  {
   "cell_type": "code",
   "execution_count": 2,
   "metadata": {},
   "outputs": [
    {
     "name": "stdout",
     "output_type": "stream",
     "text": [
      "Enter the amount of Loan:\t800\n",
      "Enter the Interest Rate:\t0.10\n",
      "Enter the amount of Payment:\t200\n",
      "\n",
      "YEAR:          LOAN:                          INTEREST:                      PAYMENT:\n",
      "1               800.000                        80.0000                        200.0000                      \n",
      "2               680.000                        68.0000                        200.0000                      \n",
      "3               548.000                        54.8000                        200.0000                      \n",
      "4               402.800                        40.2800                        200.0000                      \n",
      "5               243.080                        24.3080                        200.0000                      \n",
      "6               67.388                         6.7388                         74.1268                       \n"
     ]
    }
   ],
   "source": [
    "# 8\n",
    "\n",
    "def loan(prin, int, pay):\n",
    "    year = 1\n",
    "    print(\"%-15s %-30s %-30s %s\" % (\"\\nYEAR:\", \"LOAN:\", \"INTEREST:\", \"PAYMENT:\"))\n",
    "\n",
    "    if year == 1:\n",
    "        interest_rate = prin * int\n",
    "        print(\"%-15d %-30.3f %-30.4f %-30.4f\" % (year, prin, interest_rate, pay))\n",
    "        year += 1\n",
    "\n",
    "        while True:\n",
    "            if year > 1:\n",
    "                interest_rate = prin * int\n",
    "                prin += interest_rate\n",
    "                prin -= pay\n",
    "                interest_rate = prin * int\n",
    "\n",
    "                if prin < pay:\n",
    "                    pay = prin + interest_rate\n",
    "\n",
    "                if prin <= 0:\n",
    "                    break\n",
    "\n",
    "            print(\"%-15d %-30.3f %-30.4f %-30.4f\" % (year, prin, interest_rate, pay))\n",
    "            year += 1\n",
    "\n",
    "\n",
    "def main():\n",
    "    principal = eval(input(\"Enter the amount of Loan:\\t\"))\n",
    "    interest = eval(input(\"Enter the Interest Rate:\\t\"))\n",
    "    payment = eval(input(\"Enter the amount of Payment:\\t\"))\n",
    "    loan(principal, interest, payment)\n",
    "\n",
    "\n",
    "main()"
   ]
  },
  {
   "cell_type": "markdown",
   "metadata": {},
   "source": [
    "10. (15 points) Write a program that prompts a user a string input composed of English words and then counts the occurrence(s) of each word. Each word is only separated by one whitespace. Do not consider an input with non-alphabet characters. It should be case-insensitive \n",
    "\n",
    "Example: \n",
    "\n",
    "Input: an Apple is not a mango but an apple is a gadget \n",
    "\n",
    "Output: an - 2, apple - 2, is - 2, not - 1, a - 2, but - 1, gadget - 1 \n",
    " \n",
    "\n",
    "Input: jargon jar zoo pencil cake chocolate chocolate chocolate \n",
    "\n",
    "Output: jargon - 1, jar - 1, zoo - 1, pencil - 1, cake - 1, chocolate - 3 "
   ]
  },
  {
   "cell_type": "code",
   "execution_count": 3,
   "metadata": {},
   "outputs": [
    {
     "name": "stdout",
     "output_type": "stream",
     "text": [
      "Input : an Apple is not a mango but an apple is a gadget\n",
      "Output: \n",
      "an - 2, apple - 2, is - 2, not - 1, a - 2, mango - 1, but - 1, gadget - 1, \n",
      "Input : jargon jar zoo pencil cake chocolate chocolate chocolate\n",
      "Output: \n",
      "jargon - 1, jar - 1, zoo - 1, pencil - 1, cake - 1, chocolate - 3, \n",
      "Input : \n"
     ]
    }
   ],
   "source": [
    "# 10\n",
    "\n",
    "def word_count(str):\n",
    "    counts = {}\n",
    "    words = str.split()\n",
    "\n",
    "    for x in words:\n",
    "        counts[x] = counts.get(x, 0) + 1\n",
    "\n",
    "    print(\"Output: \")\n",
    "    for key, value in counts.items():\n",
    "        print(key, value, sep=\" - \", end=\", \")\n",
    "\n",
    "\n",
    "def main():\n",
    "    while True:\n",
    "        w = input(\"Input : \")\n",
    "        w = w.lower()\n",
    "        \n",
    "        if w == \"\":\n",
    "            break\n",
    "        \n",
    "        word_count(w)\n",
    "        print()\n",
    "\n",
    "\n",
    "main()"
   ]
  },
  {
   "cell_type": "markdown",
   "metadata": {},
   "source": [
    "15. (20 points) Programming in Medicine. A techy doctor from the Great Kanagawa Prefecture has become famous for his new offering of medical service, a personalized treatment of his patients that utilizes bioinformatics. By taking some samples of DNA from his patients, he uses state-of-the-art equipment to let computer collect and extract important information that can be found in the DNA sequence. Applying computational analysis on the data extracted would enable the doctor to determine more accurately his patients’ real health problems. In this scenario, you will serve as an intern in his laboratory who will be assigned an important task. You will be given a long DNA sequence, which is represented in a string of letters. Your task is to convert 3-letter codons into protein residues. The output would be the corresponding residues.  \n",
    "\n",
    "An input sample of DNA sequence would look like this,  \n",
    "\n",
    "TGGTACTCTTTCTTCACAAGGGCGCCGTGTGTG  \n",
    "\n",
    "The 3-letter codons are simply every three letters in the sequence.  \n",
    "TGG TAC TCT TTC TTC ACA AGG GCG CCG TGT GT  \n",
    "\n",
    "Note: The sequence might not have a multiple of 3 bases. If that happens you must map the final 1- or 2-base term to asterisk, instead. \n",
    " \n",
    " The corresponding protein residues will be \n",
    " \n",
    " WYSFFTRAPC*  \n",
    " \n",
    " Mapping  \n",
    " \n",
    " 'TTT': 'F', 'TTC': 'F', 'TTA': 'L', 'TTG': 'L', 'TCT': 'S', 'TCC': 'S', 'TCA': 'S', 'TCG': 'S', 'TAT': 'Y', 'TAC': 'Y', 'TGT': 'C', 'TGC': 'C', 'TGG': 'W', 'CTT': 'L', 'CTC': 'L', 'CTA': 'L', 'CTG': 'L', 'CCT': 'P', 'CCC': 'P', 'CCA': 'P', 'CCG': 'P', 'CAT': 'H', 'CAC': 'H', 'CAA': 'Q', 'CAG': 'Q', 'CGT': 'R', 'CGC': 'R', 'CGA': 'R', 'CGG': 'R', 'ATT': 'I', 'ATC': 'I', 'ATA': 'I', 'ATG': 'M', 'ACT': 'T', 'ACC': 'T', 'ACA': 'T', 'ACG': 'T', 'AAT': 'N', 'AAC': 'N', 'AAA': 'K', 'AAG': 'K', 'AGT': 'S', 'AGC': 'S', 'AGA': 'R', 'AGG': 'R', 'GTT': 'V', 'GTC': 'V', 'GTA': 'V', 'GTG': 'V', 'GCT': 'A', 'GCC': 'A', 'GCA': 'A', 'GCG': 'A', 'GAT': 'D', 'GAC': 'D', 'GAA': 'E', 'GAG': 'E', 'GGT': 'G', 'GGC': 'G', 'GGA': 'G', 'GGG': 'G' "
   ]
  },
  {
   "cell_type": "code",
   "execution_count": 7,
   "metadata": {},
   "outputs": [
    {
     "name": "stdout",
     "output_type": "stream",
     "text": [
      "Enter DNA Sequence:\tTGGTACTCTTTCTTCACAAGGGCGCCGTGTGT\n",
      "\n",
      "3-letter codons:\n",
      " ['TGG', 'TAC', 'TCT', 'TTC', 'TTC', 'ACA', 'AGG', 'GCG', 'CCG', 'TGT', 'GT']\n",
      "\n",
      "Protein Residues:\n",
      "WYSFFTRAPC*\n",
      "\n"
     ]
    }
   ],
   "source": [
    "# 15\n",
    "dict = {'TTT': 'F', 'TTC': 'F', 'TTA': 'L', 'TTG': 'L',\n",
    "        'TCT': 'S', 'TCC': 'S', 'TCA': 'S', 'TCG': 'S',\n",
    "        'TAT': 'Y', 'TAC': 'Y', 'TGT': 'C', 'TGC': 'C',\n",
    "        'TGG': 'W', 'CTT': 'L', 'CTC': 'L', 'CTA': 'L',\n",
    "        'CTG': 'L', 'CCT': 'P', 'CCC': 'P', 'CCA': 'P',\n",
    "        'CCG': 'P', 'CAT': 'H', 'CAC': 'H', 'CAA': 'Q',\n",
    "        'CAG': 'Q', 'CGT': 'R', 'CGC': 'R', 'CGA': 'R',\n",
    "        'CGG': 'R', 'ATT': 'I', 'ATC': 'I', 'ATA': 'I',\n",
    "        'ATG': 'M', 'ACT': 'T', 'ACC': 'T', 'ACA': 'T',\n",
    "        'ACG': 'T', 'AAT': 'N', 'AAC': 'N', 'AAA': 'K',\n",
    "        'AAG': 'K', 'AGT': 'S', 'AGC': 'S', 'AGA': 'R',\n",
    "        'AGG': 'R', 'GTT': 'V', 'GTC': 'V', 'GTA': 'V',\n",
    "        'GTG': 'V', 'GCT': 'A', 'GCC': 'A', 'GCA': 'A',\n",
    "        'GCG': 'A', 'GAT': 'D', 'GAC': 'D', 'GAA': 'E',\n",
    "        'GAG': 'E', 'GGT': 'G', 'GGC': 'G', 'GGA': 'G',\n",
    "        'GGG': 'G'}\n",
    "\n",
    "def slice(b):\n",
    "    n = 3\n",
    "    out = [(b[i:i + n])\n",
    "           for i in range(0, len(b), n)]\n",
    "    print(\"\\n3-letter codons:\\n\", out)\n",
    "\n",
    "    print(\"\\nProtein Residues:\")\n",
    "    for x in out:\n",
    "        if x in dict:\n",
    "            keys = dict[x]\n",
    "            print(keys, end='')\n",
    "        if x not in dict:\n",
    "            print(\"*\")\n",
    "\n",
    "\n",
    "def main():\n",
    "    dna = input(\"Enter DNA Sequence:\\t\")\n",
    "    slice(dna)\n",
    "    print()\n",
    "\n",
    "\n",
    "main()"
   ]
  }
 ],
 "metadata": {
  "kernelspec": {
   "display_name": "Python 3",
   "language": "python",
   "name": "python3"
  },
  "language_info": {
   "codemirror_mode": {
    "name": "ipython",
    "version": 3
   },
   "file_extension": ".py",
   "mimetype": "text/x-python",
   "name": "python",
   "nbconvert_exporter": "python",
   "pygments_lexer": "ipython3",
   "version": "3.7.3"
  }
 },
 "nbformat": 4,
 "nbformat_minor": 2
}
